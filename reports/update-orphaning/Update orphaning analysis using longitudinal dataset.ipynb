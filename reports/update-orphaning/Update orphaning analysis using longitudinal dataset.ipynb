{
 "cells": [
  {
   "cell_type": "markdown",
   "metadata": {},
   "source": [
    "### Update orphaning"
   ]
  },
  {
   "cell_type": "code",
   "execution_count": null,
   "metadata": {
    "collapsed": false,
    "scrolled": true
   },
   "outputs": [],
   "source": [
    "import datetime as dt\n",
    "import re\n",
    "import urllib2\n",
    "import ujson as json\n",
    "from os import environ\n",
    "from collections import defaultdict\n",
    "\n",
    "%pylab inline"
   ]
  },
  {
   "cell_type": "code",
   "execution_count": null,
   "metadata": {
    "collapsed": false
   },
   "outputs": [],
   "source": [
    "# Get the time when this job started.\n",
    "\n",
    "startTime = dt.datetime.now()\n",
    "print \"Start: \" + str(startTime.strftime(\"%Y-%m-%d %H:%M:%S\"))"
   ]
  },
  {
   "cell_type": "code",
   "execution_count": null,
   "metadata": {
    "collapsed": false
   },
   "outputs": [],
   "source": [
    "sc.defaultParallelism"
   ]
  },
  {
   "cell_type": "code",
   "execution_count": null,
   "metadata": {
    "collapsed": false
   },
   "outputs": [],
   "source": [
    "runManually = None\n",
    "todayEnvStr = None\n",
    "\n",
    "# Uncomment out the following two lines and adjust |todayEnvStr| as necessary to run manually\n",
    "# runManually = True\n",
    "# todayEnvStr = \"20170212\"\n",
    "\n",
    "channelToProcess = \"release\"\n",
    "minVersion = 42\n",
    "upToDateReleases = 2\n",
    "weeksOfSubsessionData = 12\n",
    "minUpdatePingCount = 4\n",
    "minSubsessionHours = 2\n",
    "minSubsessionSeconds = minSubsessionHours * 60 * 60"
   ]
  },
  {
   "cell_type": "code",
   "execution_count": null,
   "metadata": {
    "collapsed": false
   },
   "outputs": [],
   "source": [
    "if runManually is None:\n",
    "    todayEnvStr = environ.get(\"date\", None)\n",
    "\n",
    "assert (todayEnvStr is not None), \"The date environment parameter is missing.\"\n",
    "today = dt.datetime.strptime(todayEnvStr, \"%Y%m%d\").date()\n",
    "\n",
    "# MON = 0, SAT = 5, SUN = 6 -> SUN = 0, MON = 1, SAT = 6\n",
    "dayIndex = (today.weekday() + 1) % 7\n",
    "# Filename used to save the report's JSON\n",
    "reportFilename = (today - datetime.timedelta(dayIndex)).strftime(\"%Y%m%d\")\n",
    "# Maximum report date which is the previous Saturday\n",
    "maxReportDate = today - datetime.timedelta(7 + dayIndex - 6)\n",
    "# Suffix of the longitudinal datasource name to use\n",
    "longitudinalSuffix = maxReportDate.strftime(\"%Y%m%d\")\n",
    "# String used in the SQL queries to limit records to the maximum report date.\n",
    "# Since the queries use less than this is the day after the previous Saturday.\n",
    "maxReportDateSQL = (maxReportDate + dt.timedelta(days=1)).strftime(\"%Y-%m-%d\")\n",
    "# The Sunday prior to the last Saturday\n",
    "minReportDate = maxReportDate - dt.timedelta(days=6)\n",
    "# String used in the SQL queries to limit records to the minimum report date\n",
    "# Since the queries use greater than this is six days prior to the previous Saturday.\n",
    "minReportDateSQL = minReportDate.strftime(\"%Y-%m-%d\")\n",
    "# Date used to limit records to the number of weeks specified by\n",
    "# weeksOfSubsessionData prior to the maximum report date\n",
    "minSubsessionDate = maxReportDate - dt.timedelta(weeks=weeksOfSubsessionData)\n",
    "# Date used to compute the latest version from firefox_history_major_releases.json\n",
    "latestVerDateStr = (maxReportDate - dt.timedelta(days=7)).strftime(\"%Y-%m-%d\")\n",
    "\n",
    "print \"maxReportDate     : \" + maxReportDate.strftime(\"%Y%m%d\")\n",
    "print \"maxReportDateSQL  : \" + maxReportDateSQL\n",
    "print \"minReportDate     : \" + minReportDate.strftime(\"%Y%m%d\")\n",
    "print \"minReportDateSQL  : \" + minReportDateSQL\n",
    "print \"minSubsessionDate : \" + minSubsessionDate.strftime(\"%Y%m%d\")\n",
    "print \"reportFilename    : \" + reportFilename\n",
    "print \"latestVerDateStr  : \" + latestVerDateStr"
   ]
  },
  {
   "cell_type": "code",
   "execution_count": null,
   "metadata": {
    "collapsed": false
   },
   "outputs": [],
   "source": [
    "def latestVersionOnDate(date, majorReleases):\n",
    "    latestDate = u\"1900-01-01\"\n",
    "    latestVer = 0\n",
    "    for version, releaseDate in majorReleases.iteritems():\n",
    "        versionInt = int(version.split(\".\")[0])\n",
    "        if releaseDate <= date and releaseDate >= latestDate and versionInt >= latestVer:\n",
    "            latestDate = releaseDate\n",
    "            latestVer = versionInt\n",
    "\n",
    "    return latestVer\n",
    "\n",
    "majorReleasesJSON = urllib2.urlopen(\"https://product-details.mozilla.org/1.0/firefox_history_major_releases.json\").read()\n",
    "majorReleases = json.loads(majorReleasesJSON)\n",
    "latestVersion = latestVersionOnDate(latestVerDateStr, majorReleases)\n",
    "earliestUpToDateVersion = str(latestVersion - upToDateReleases)\n",
    "\n",
    "print \"Latest Version: \" + str(latestVersion)"
   ]
  },
  {
   "cell_type": "code",
   "execution_count": null,
   "metadata": {
    "collapsed": false
   },
   "outputs": [],
   "source": [
    "reportDetailsDict = defaultdict(int)\n",
    "reportDetailsDict[\"latestVersion\"] = latestVersion\n",
    "reportDetailsDict[\"upToDateReleases\"] = upToDateReleases\n",
    "reportDetailsDict[\"minReportDate\"] = minReportDate.strftime(\"%Y-%m-%d\")\n",
    "reportDetailsDict[\"maxReportDate\"] = maxReportDate.strftime(\"%Y-%m-%d\")\n",
    "reportDetailsDict[\"weeksOfSubsessionData\"] = weeksOfSubsessionData\n",
    "reportDetailsDict[\"minSubsessionDate\"] = minSubsessionDate.strftime(\"%Y-%m-%d\")\n",
    "reportDetailsDict[\"minSubsessionHours\"] = minSubsessionHours\n",
    "reportDetailsDict[\"minSubsessionSeconds\"] = minSubsessionSeconds\n",
    "reportDetailsDict[\"minUpdatePingCount\"] = minUpdatePingCount\n",
    "reportDetailsDict"
   ]
  },
  {
   "cell_type": "code",
   "execution_count": null,
   "metadata": {
    "collapsed": false
   },
   "outputs": [],
   "source": [
    "# Using the parquet is as fast as using 'FROM longitudinal_vYYYMMDD'\n",
    "# and it allows the query to go further back in time.\n",
    "\n",
    "#longitudinalFromSQL = (\"FROM longitudinal_v{} \").format(longitudinalSuffix)\n",
    "longitudinalFromSQL = (\"FROM parquet.`s3://telemetry-parquet/longitudinal/v{}` \").format(longitudinalSuffix)  \n",
    "longitudinalFromSQL"
   ]
  },
  {
   "cell_type": "code",
   "execution_count": null,
   "metadata": {
    "collapsed": false
   },
   "outputs": [],
   "source": [
    "buildVersionWhereSQL = \"(build.version[0] RLIKE '^[0-9]{2,3}\\.0[\\.0-9]*$' OR build.version[0] = '50.1.0')\"\n",
    "buildVersionWhereSQL"
   ]
  },
  {
   "cell_type": "code",
   "execution_count": null,
   "metadata": {
    "collapsed": false
   },
   "outputs": [],
   "source": [
    "appVersionWhereSQL = \"(appVersion RLIKE '^[0-9]{2,3}\\.0[\\.0-9]*$' OR appVersion = '50.1.0')\"\n",
    "appVersionWhereSQL"
   ]
  },
  {
   "cell_type": "code",
   "execution_count": null,
   "metadata": {
    "collapsed": false
   },
   "outputs": [],
   "source": [
    "commonWhereSQL = (\"\"\n",
    "    \"build.application_name[0] = 'Firefox' AND \"\n",
    "    \"DATEDIFF(SUBSTR(subsession_start_date[0], 0, 10), '{}') >= 0 AND \"\n",
    "    \"DATEDIFF(SUBSTR(subsession_start_date[0], 0, 10), '{}') < 0 AND \"\n",
    "    \"settings.update.channel[0] = '{}'\"\n",
    "\"\").format(minReportDateSQL,\n",
    "           maxReportDateSQL,\n",
    "           channelToProcess)\n",
    "commonWhereSQL"
   ]
  },
  {
   "cell_type": "code",
   "execution_count": null,
   "metadata": {
    "collapsed": false
   },
   "outputs": [],
   "source": [
    "summarySQL = (\"\"\n",
    "\"SELECT \"\n",
    "    \"COUNT(CASE WHEN build.version[0] >= '{}.' AND build.version[0] < '{}.' THEN 1 END) AS versionUpToDate, \"\n",
    "    \"COUNT(CASE WHEN build.version[0] < '{}.' AND build.version[0] >= '{}.' THEN 1 END) AS versionOutOfDate, \"\n",
    "    \"COUNT(CASE WHEN build.version[0] < '{}.' THEN 1 END) AS versionTooLow, \"\n",
    "    \"COUNT(CASE WHEN build.version[0] > '{}.' THEN 1 END) AS versionTooHigh, \"\n",
    "    \"COUNT(CASE WHEN NOT build.version[0] > '0' THEN 1 END) AS versionMissing \"\n",
    "\"{} \"\n",
    "\"WHERE \"\n",
    "    \"{} AND \"\n",
    "    \"{}\"\n",
    "\"\").format(str(latestVersion - upToDateReleases),\n",
    "           str(latestVersion + 1),\n",
    "           str(latestVersion - upToDateReleases),\n",
    "           str(minVersion),\n",
    "           str(minVersion),\n",
    "           str(latestVersion + 1),\n",
    "           longitudinalFromSQL,\n",
    "           commonWhereSQL,\n",
    "           buildVersionWhereSQL)\n",
    "summarySQL"
   ]
  },
  {
   "cell_type": "code",
   "execution_count": null,
   "metadata": {
    "collapsed": false
   },
   "outputs": [],
   "source": [
    "summaryDF = sqlContext.sql(summarySQL)"
   ]
  },
  {
   "cell_type": "code",
   "execution_count": null,
   "metadata": {
    "collapsed": false
   },
   "outputs": [],
   "source": [
    "summaryHead = summaryDF.head()\n",
    "summaryDict = defaultdict(int)\n",
    "summaryDict[\"versionUpToDate\"] = summaryHead[\"versionUpToDate\"]\n",
    "summaryDict[\"versionOutOfDate\"] = summaryHead[\"versionOutOfDate\"]\n",
    "summaryDict[\"versionTooLow\"] = summaryHead[\"versionTooLow\"]\n",
    "summaryDict[\"versionTooHigh\"] = summaryHead[\"versionTooHigh\"]\n",
    "summaryDict[\"versionMissing\"] = summaryHead[\"versionMissing\"]\n",
    "summaryDict"
   ]
  },
  {
   "cell_type": "code",
   "execution_count": null,
   "metadata": {
    "collapsed": false
   },
   "outputs": [],
   "source": [
    "# Only query for the columns and the records that are used to optimize\n",
    "# for speed. Adding update_state_code_partial_stage and\n",
    "# update_state_code_complete_stage increased the time it takes this\n",
    "# notebook to run by 50 seconds when using 4 clusters.\n",
    "\n",
    "# Creating a temporary table of the data after the filters have been\n",
    "# applied and joining it with the original datasource to include\n",
    "# other columns doesn't appear to speed up the process but it doesn't\n",
    "# appear to slow it down either so all columns of interest are in this\n",
    "# query.\n",
    "\n",
    "outOfDateDetailsSQL = (\"\"\n",
    "\"SELECT \"\n",
    "    \"client_id, \"\n",
    "    \"build.version, \"\n",
    "    \"session_length, \"\n",
    "    \"subsession_start_date, \"\n",
    "    \"subsession_length, \"\n",
    "    \"update_check_code_notify, \"\n",
    "    \"update_check_extended_error_notify, \"\n",
    "    \"update_check_no_update_notify, \"\n",
    "    \"update_not_pref_update_enabled_notify, \"\n",
    "    \"update_not_pref_update_auto_notify, \"\n",
    "    \"update_ping_count_notify, \"\n",
    "    \"update_unable_to_apply_notify, \"\n",
    "    \"update_download_code_partial, \"\n",
    "    \"update_download_code_complete, \"\n",
    "    \"update_state_code_partial_stage, \"\n",
    "    \"update_state_code_complete_stage, \"\n",
    "    \"update_state_code_unknown_stage, \"\n",
    "    \"update_state_code_partial_startup, \"\n",
    "    \"update_state_code_complete_startup, \"\n",
    "    \"update_state_code_unknown_startup, \"\n",
    "    \"update_status_error_code_complete_startup, \"\n",
    "    \"update_status_error_code_partial_startup, \"\n",
    "    \"update_status_error_code_unknown_startup, \"\n",
    "    \"update_status_error_code_complete_stage, \"\n",
    "    \"update_status_error_code_partial_stage, \"\n",
    "    \"update_status_error_code_unknown_stage \"\n",
    "\"{}\"\n",
    "\"WHERE \"\n",
    "    \"{} AND \"\n",
    "    \"{} AND \"\n",
    "    \"build.version[0] < '{}.' AND \"\n",
    "    \"build.version[0] >= '{}.'\"\n",
    "\"\").format(longitudinalFromSQL,\n",
    "           commonWhereSQL,\n",
    "           buildVersionWhereSQL,\n",
    "           str(latestVersion - upToDateReleases),\n",
    "           str(minVersion))\n",
    "outOfDateDetailsSQL"
   ]
  },
  {
   "cell_type": "code",
   "execution_count": null,
   "metadata": {
    "collapsed": false
   },
   "outputs": [],
   "source": [
    "outOfDateDetailsDF = sqlContext.sql(outOfDateDetailsSQL)"
   ]
  },
  {
   "cell_type": "code",
   "execution_count": null,
   "metadata": {
    "collapsed": false
   },
   "outputs": [],
   "source": [
    "# Create the RDD used to further restrict which clients are out of date\n",
    "# to focus on clients that are of concern and potentially of concern.\n",
    "\n",
    "outOfDateDetailsRDD = outOfDateDetailsDF.rdd.cache()"
   ]
  },
  {
   "cell_type": "markdown",
   "metadata": {},
   "source": [
    "The next several cells are to find the clients that are \"out of date, potentially<br/>\n",
    "of concern\" so they can be excluded from the \"out of date, of concern\" clients."
   ]
  },
  {
   "cell_type": "code",
   "execution_count": null,
   "metadata": {
    "collapsed": false
   },
   "outputs": [],
   "source": [
    "# Create an RDD of out of date telemetry pings that have and don't have\n",
    "# a previous telemetry ping with a version that is up to date along\n",
    "# with a dictionary of the count of True and False.\n",
    "\n",
    "def hasOutOfDateMaxVersion(d):\n",
    "    ping = d\n",
    "    index = 0\n",
    "    currentVersion = ping.version[0]\n",
    "    while (index < len(ping.version)):\n",
    "        if ((ping.version[index] == \"50.1.0\" or\n",
    "             p.match(ping.version[index])) and\n",
    "            ping.version[index] > earliestUpToDateVersion):\n",
    "            return (False, ping)\n",
    "        index += 1\n",
    "\n",
    "    return (True, ping)\n",
    "\n",
    "# RegEx for a valid release versions except for 50.1.0 which is handled separately.\n",
    "p = re.compile('^[0-9]{2,3}\\\\.0[\\\\.0-9]*$')\n",
    "\n",
    "hasOutOfDateMaxVersionRDD = outOfDateDetailsRDD.map(hasOutOfDateMaxVersion).cache()\n",
    "hasOutOfDateMaxVersionDict = hasOutOfDateMaxVersionRDD.countByKey()\n",
    "hasOutOfDateMaxVersionDict"
   ]
  },
  {
   "cell_type": "code",
   "execution_count": null,
   "metadata": {
    "collapsed": false
   },
   "outputs": [],
   "source": [
    "hasOutOfDateMaxVersionTrueRDD = hasOutOfDateMaxVersionRDD.filter(lambda p: p[0] == True).map(lambda p: p[1]).cache()"
   ]
  },
  {
   "cell_type": "code",
   "execution_count": null,
   "metadata": {
    "collapsed": false
   },
   "outputs": [],
   "source": [
    "# Create an RDD of out of date telemetry pings that have and have not\n",
    "# sent an update telemtry ping for any version of Firefox along with a\n",
    "# dictionary of the count of True and False.\n",
    "\n",
    "def hasUpdatePingMapper(d):\n",
    "    ping = d\n",
    "    if (ping.update_ping_count_notify is not None and\n",
    "        (ping.update_check_code_notify is not None or\n",
    "         ping.update_check_no_update_notify is not None)):\n",
    "        return (True, ping)\n",
    "\n",
    "    return (False, ping)\n",
    "\n",
    "hasUpdatePingRDD = hasOutOfDateMaxVersionTrueRDD.map(hasUpdatePingMapper).cache()\n",
    "hasUpdatePingDict = hasUpdatePingRDD.countByKey()\n",
    "hasUpdatePingDict"
   ]
  },
  {
   "cell_type": "code",
   "execution_count": null,
   "metadata": {
    "collapsed": false
   },
   "outputs": [],
   "source": [
    "hasUpdatePingTrueRDD = hasUpdatePingRDD.filter(lambda p: p[0] == True).map(lambda p: p[1]).cache()"
   ]
  },
  {
   "cell_type": "code",
   "execution_count": null,
   "metadata": {
    "collapsed": false,
    "scrolled": true
   },
   "outputs": [],
   "source": [
    "# Create an RDD of out of date telemetry pings that have and have not\n",
    "# ran this version of Firefox for more than the amount of seconds as\n",
    "# specified in minSubsessionSeconds along with a dictionary of the\n",
    "# count of True and False.\n",
    "\n",
    "def hasMinSubsessionLengthMapper(d):\n",
    "    ping = d\n",
    "    seconds = 0\n",
    "    index = 0\n",
    "    currentVersion = ping.version[0]\n",
    "    while (seconds < minSubsessionSeconds and\n",
    "           index < len(ping.subsession_start_date) and\n",
    "           index < len(ping.version) and\n",
    "           ping.version[index] == currentVersion):\n",
    "        try:\n",
    "            date = dt.datetime.strptime(ping.subsession_start_date[index][:10],\n",
    "                                        \"%Y-%m-%d\").date()\n",
    "            if date < minSubsessionDate:\n",
    "                return (False, ping)\n",
    "\n",
    "            seconds += ping.subsession_length[index]\n",
    "            index += 1\n",
    "        except: # catch *all* exceptions\n",
    "            index += 1\n",
    "\n",
    "    if seconds >= minSubsessionSeconds:\n",
    "        return (True, ping)\n",
    "\n",
    "    return (False, ping)\n",
    "\n",
    "hasMinSubsessionLengthRDD = hasUpdatePingTrueRDD.map(hasMinSubsessionLengthMapper).cache()\n",
    "hasMinSubsessionLengthDict = hasMinSubsessionLengthRDD.countByKey()\n",
    "hasMinSubsessionLengthDict"
   ]
  },
  {
   "cell_type": "code",
   "execution_count": null,
   "metadata": {
    "collapsed": true
   },
   "outputs": [],
   "source": [
    "hasMinSubsessionLengthTrueRDD = hasMinSubsessionLengthRDD.filter(lambda p: p[0] == True).map(lambda p: p[1]).cache()"
   ]
  },
  {
   "cell_type": "code",
   "execution_count": null,
   "metadata": {
    "collapsed": false
   },
   "outputs": [],
   "source": [
    "# Create an RDD of out of date telemetry pings that have and have not\n",
    "# sent the minimum number of update pings as specified by\n",
    "# minUpdatePingCount for this version of Firefox along with a\n",
    "# dictionary of the count of True and False.\n",
    "\n",
    "def hasMinUpdatePingCountMapper(d):\n",
    "    ping = d\n",
    "    index = 0\n",
    "    updatePingCountTotal = 0\n",
    "    currentVersion = ping.version[0]\n",
    "    while (updatePingCountTotal < minUpdatePingCount and\n",
    "           index < len(ping.update_ping_count_notify) and\n",
    "           index < len(ping.version) and\n",
    "           ping.version[index] == currentVersion):\n",
    "\n",
    "        pingCount = ping.update_ping_count_notify[index]\n",
    "        # Is this an update ping or just a placeholder for the telemetry ping?\n",
    "        if pingCount > 0:\n",
    "            try:\n",
    "                date = dt.datetime.strptime(ping.subsession_start_date[index][:10],\n",
    "                                            \"%Y-%m-%d\").date()\n",
    "                if date < minSubsessionDate:\n",
    "                    return (False, ping)\n",
    "\n",
    "            except: # catch *all* exceptions\n",
    "                index += 1\n",
    "                continue\n",
    "\n",
    "            # Is there also a valid update check code or no update telemetry ping?\n",
    "            if (ping.update_check_code_notify is not None and\n",
    "                len(ping.update_check_code_notify) > index):\n",
    "                for codeValue in ping.update_check_code_notify[index]:\n",
    "                    if codeValue > 0:\n",
    "                        updatePingCountTotal += pingCount\n",
    "                        index += 1\n",
    "                        continue\n",
    "\n",
    "            if (ping.update_check_no_update_notify is not None and\n",
    "                len(ping.update_check_no_update_notify) > index and\n",
    "                ping.update_check_no_update_notify[index] > 0):\n",
    "                updatePingCountTotal += pingCount\n",
    "\n",
    "        index += 1\n",
    "\n",
    "    if updatePingCountTotal < minUpdatePingCount:\n",
    "        return (False, ping)\n",
    "\n",
    "    return (True, ping)\n",
    "\n",
    "hasMinUpdatePingCountRDD = hasMinSubsessionLengthTrueRDD.map(hasMinUpdatePingCountMapper).cache()\n",
    "hasMinUpdatePingCountDict = hasMinUpdatePingCountRDD.countByKey()\n",
    "hasMinUpdatePingCountDict"
   ]
  },
  {
   "cell_type": "code",
   "execution_count": null,
   "metadata": {
    "collapsed": false
   },
   "outputs": [],
   "source": [
    "hasMinUpdatePingCountTrueRDD = hasMinUpdatePingCountRDD.filter(lambda p: p[0] == True).map(lambda p: p[1]).cache()"
   ]
  },
  {
   "cell_type": "code",
   "execution_count": null,
   "metadata": {
    "collapsed": false
   },
   "outputs": [],
   "source": [
    "# Create an RDD of out of date telemetry pings that are supported and\n",
    "# are not supported based on whether they have not received or have\n",
    "# received the unsupported update xml for the last update check along\n",
    "# with a dictionary of the count of True and False.\n",
    "\n",
    "def isSupportedMapper(d):\n",
    "    ping = d\n",
    "    index = 0\n",
    "    updatePingCountTotal = 0\n",
    "    currentVersion = ping.version[0]\n",
    "    while (updatePingCountTotal < minUpdatePingCount and\n",
    "           index < len(ping.update_ping_count_notify) and\n",
    "           index < len(ping.version) and\n",
    "           ping.version[index] == currentVersion):\n",
    "        pingCount = ping.update_ping_count_notify[index]\n",
    "        # Is this an update ping or just a placeholder for the telemetry ping?\n",
    "        if pingCount > 0:\n",
    "            # Is there also a valid update check code or no update telemetry ping?\n",
    "            if (ping.update_check_code_notify is not None and\n",
    "                len(ping.update_check_code_notify) > index and\n",
    "                ping.update_check_code_notify[index][28] > 0):\n",
    "                return (False, ping)\n",
    "\n",
    "        index += 1\n",
    "        \n",
    "    return (True, ping)\n",
    "\n",
    "isSupportedRDD = hasMinUpdatePingCountTrueRDD.map(isSupportedMapper).cache()\n",
    "isSupportedDict = isSupportedRDD.countByKey()\n",
    "isSupportedDict"
   ]
  },
  {
   "cell_type": "code",
   "execution_count": null,
   "metadata": {
    "collapsed": true
   },
   "outputs": [],
   "source": [
    "isSupportedTrueRDD = isSupportedRDD.filter(lambda p: p[0] == True).map(lambda p: p[1]).cache()"
   ]
  },
  {
   "cell_type": "code",
   "execution_count": null,
   "metadata": {
    "collapsed": false
   },
   "outputs": [],
   "source": [
    "# Create an RDD of out of date telemetry pings that have and don't have\n",
    "# the ability to apply an update along with a dictionary of the count \n",
    "# of True and False.\n",
    "\n",
    "def isAbleToApplyMapper(d):\n",
    "    ping = d\n",
    "    index = 0\n",
    "    currentVersion = ping.version[0]\n",
    "    while (index < len(ping.update_ping_count_notify) and\n",
    "           index < len(ping.version) and\n",
    "           ping.version[index] == currentVersion):\n",
    "        if ping.update_ping_count_notify[index] > 0:\n",
    "            # Only check the last value for update_unable_to_apply_notify\n",
    "            # to determine if the client is unable to apply.\n",
    "            if (ping.update_unable_to_apply_notify is not None and\n",
    "                ping.update_unable_to_apply_notify[index] > 0):\n",
    "                return (False, ping)\n",
    "\n",
    "            return (True, ping)\n",
    "\n",
    "        index += 1\n",
    "\n",
    "    raise ValueError(\"Missing update unable to apply value!\")\n",
    "\n",
    "isAbleToApplyRDD = isSupportedTrueRDD.map(isAbleToApplyMapper).cache()\n",
    "isAbleToApplyDict = isAbleToApplyRDD.countByKey()\n",
    "isAbleToApplyDict"
   ]
  },
  {
   "cell_type": "code",
   "execution_count": null,
   "metadata": {
    "collapsed": true
   },
   "outputs": [],
   "source": [
    "isAbleToApplyTrueRDD = isAbleToApplyRDD.filter(lambda p: p[0] == True).map(lambda p: p[1]).cache()"
   ]
  },
  {
   "cell_type": "code",
   "execution_count": null,
   "metadata": {
    "collapsed": false
   },
   "outputs": [],
   "source": [
    "# Create an RDD of out of date telemetry pings that have and don't have\n",
    "# the application.update.enabled preference set to True / False along\n",
    "# with a dictionary of the count of True and False.\n",
    "\n",
    "def hasUpdateEnabledMapper(d):\n",
    "    ping = d\n",
    "    index = 0\n",
    "    currentVersion = ping.version[0]\n",
    "    while (index < len(ping.update_ping_count_notify) and\n",
    "           index < len(ping.version) and\n",
    "           ping.version[index] == currentVersion):\n",
    "        if ping.update_ping_count_notify[index] > 0:\n",
    "            # If there is an update ping and update_not_pref_update_enabled_notify\n",
    "            # has a value greater than 0 then the preference is false. If there is\n",
    "            # a value of 0 or update_not_pref_update_enabled_notify is None then\n",
    "            # the preference is true.\n",
    "            if (ping.update_not_pref_update_enabled_notify is not None and\n",
    "                ping.update_not_pref_update_enabled_notify[index] > 0):\n",
    "                return (False, ping)\n",
    "\n",
    "            return (True, ping)\n",
    "\n",
    "        index += 1\n",
    "\n",
    "    raise ValueError(\"Missing update enabled value!\")\n",
    "\n",
    "hasUpdateEnabledRDD = isAbleToApplyTrueRDD.map(hasUpdateEnabledMapper).cache()\n",
    "hasUpdateEnabledDict = hasUpdateEnabledRDD.countByKey()\n",
    "hasUpdateEnabledDict"
   ]
  },
  {
   "cell_type": "markdown",
   "metadata": {},
   "source": [
    "The next several cells categorize the clients that are \"out of date, of concern\"."
   ]
  },
  {
   "cell_type": "code",
   "execution_count": null,
   "metadata": {
    "collapsed": true
   },
   "outputs": [],
   "source": [
    "# Create a reference to the dictionary which will be written to the\n",
    "# JSON that populates the web page data. This way the reference in the\n",
    "# web page never changes. A reference is all that is needed since the\n",
    "# dictionary is not modified.\n",
    "\n",
    "ofConcernDict = hasUpdateEnabledDict"
   ]
  },
  {
   "cell_type": "code",
   "execution_count": null,
   "metadata": {
    "collapsed": false
   },
   "outputs": [],
   "source": [
    "# This RDD is named ofConcernTrueRDD to simplify the addition of new\n",
    "# code without having to modify consumers of the RDD.\n",
    "\n",
    "ofConcernTrueRDD = hasUpdateEnabledRDD.filter(lambda p: p[0] == True).map(lambda p: p[1]).cache()"
   ]
  },
  {
   "cell_type": "code",
   "execution_count": null,
   "metadata": {
    "collapsed": false
   },
   "outputs": [],
   "source": [
    "# Create an RDD of out of date, of concern telemetry ping client\n",
    "# versions along with a dictionary of the count of each version.\n",
    "\n",
    "def byVersionMapper(d):\n",
    "    ping = d\n",
    "    return (ping.version[0], ping)\n",
    "\n",
    "ofConcernByVersionRDD = ofConcernTrueRDD.map(byVersionMapper)\n",
    "ofConcernByVersionDict = ofConcernByVersionRDD.countByKey()\n",
    "ofConcernByVersionDict"
   ]
  },
  {
   "cell_type": "code",
   "execution_count": null,
   "metadata": {
    "collapsed": false
   },
   "outputs": [],
   "source": [
    "# Create an RDD of out of date, of concern telemetry ping update check\n",
    "# codes along with a dictionary of the count of each update check code.\n",
    "\n",
    "def checkCodeNotifyMapper(d):\n",
    "    ping = d\n",
    "    index = 0\n",
    "    currentVersion = ping.version[0]\n",
    "    while (index < len(ping.update_ping_count_notify) and\n",
    "           index < len(ping.version) and\n",
    "           ping.version[index] == currentVersion):\n",
    "        if ping.update_ping_count_notify[index] > 0:\n",
    "            if ping.update_check_code_notify is not None:\n",
    "                codeIndex = 0\n",
    "                for codeValue in ping.update_check_code_notify[index]:\n",
    "                    if codeValue > 0:\n",
    "                        return (codeIndex, ping)\n",
    "                    codeIndex += 1\n",
    "\n",
    "            if (ping.update_check_no_update_notify is not None and\n",
    "                ping.update_check_no_update_notify[index] > 0):\n",
    "                return (0, ping)\n",
    "\n",
    "        index += 1\n",
    "\n",
    "    return (-1, ping)\n",
    "\n",
    "checkCodeNotifyOfConcernRDD = ofConcernTrueRDD.map(checkCodeNotifyMapper)\n",
    "checkCodeNotifyOfConcernDict = checkCodeNotifyOfConcernRDD.countByKey()\n",
    "checkCodeNotifyOfConcernDict"
   ]
  },
  {
   "cell_type": "code",
   "execution_count": null,
   "metadata": {
    "collapsed": true
   },
   "outputs": [],
   "source": [
    "# Create an RDD of out of date, of concern telemetry pings that had a\n",
    "# general failure for the update check. The general failure codes are:\n",
    "# CHK_GENERAL_ERROR_PROMPT: 22\n",
    "# CHK_GENERAL_ERROR_SILENT: 23\n",
    "\n",
    "checkCodeNotifyGeneralErrorOfConcernRDD = \\\n",
    "  checkCodeNotifyOfConcernRDD.filter(lambda p: p[0] == 22 or p[0] == 23).map(lambda p: p[1]).cache()"
   ]
  },
  {
   "cell_type": "code",
   "execution_count": null,
   "metadata": {
    "collapsed": false
   },
   "outputs": [],
   "source": [
    "# Create an RDD of out of date, of concern telemetry ping update check\n",
    "# extended error values for the clients that had a general failure for\n",
    "# the update check along with a dictionary of the count of the error\n",
    "# values.\n",
    "\n",
    "def checkExErrorNotifyMapper(d):\n",
    "    ping = d\n",
    "    currentVersion = ping.version[0]\n",
    "    for index, version in enumerate(ping.version):\n",
    "        if ping.update_ping_count_notify[index] > 0:\n",
    "            if ping.update_check_extended_error_notify is not None:\n",
    "                for keyName in ping.update_check_extended_error_notify:\n",
    "                    if ping.update_check_extended_error_notify[keyName][index] > 0:\n",
    "                        if version == currentVersion:\n",
    "                            keyName = keyName[17:]\n",
    "                            if len(keyName) == 4:\n",
    "                                keyName = keyName[1:]\n",
    "                            return (int(keyName), ping)\n",
    "                        return (-1, ping)\n",
    "\n",
    "    return (-2, ping)\n",
    "checkExErrorNotifyOfConcernRDD = checkCodeNotifyGeneralErrorOfConcernRDD.map(checkExErrorNotifyMapper)\n",
    "checkExErrorNotifyOfConcernDict = checkExErrorNotifyOfConcernRDD.countByKey()\n",
    "checkExErrorNotifyOfConcernDict"
   ]
  },
  {
   "cell_type": "code",
   "execution_count": null,
   "metadata": {
    "collapsed": false
   },
   "outputs": [],
   "source": [
    "# Create an RDD of out of date, of concern telemetry ping update\n",
    "# download codes along with a dictionary of the count of the codes.\n",
    "\n",
    "def downloadCodeMapper(d):\n",
    "    ping = d\n",
    "    currentVersion = ping.version[0]\n",
    "    for index, version in enumerate(ping.version):\n",
    "        if ping.update_download_code_partial is not None:\n",
    "            codeIndex = 0\n",
    "            for codeValue in ping.update_download_code_partial[index]:\n",
    "                if codeValue > 0:\n",
    "                    if version == currentVersion:\n",
    "                        return (codeIndex, ping)\n",
    "                    return (-1, ping)\n",
    "                codeIndex += 1\n",
    "\n",
    "        if ping.update_download_code_complete is not None:\n",
    "            codeIndex = 0\n",
    "            for codeValue in ping.update_download_code_complete[index]:\n",
    "                if codeValue > 0:\n",
    "                    if version == currentVersion:\n",
    "                        return (codeIndex, ping)\n",
    "                    return (-1, ping)\n",
    "                codeIndex += 1\n",
    "\n",
    "    return (-2, ping)\n",
    "\n",
    "downloadCodeOfConcernRDD = ofConcernTrueRDD.map(downloadCodeMapper)\n",
    "downloadCodeOfConcernDict = downloadCodeOfConcernRDD.countByKey()\n",
    "downloadCodeOfConcernDict"
   ]
  },
  {
   "cell_type": "code",
   "execution_count": null,
   "metadata": {
    "collapsed": false
   },
   "outputs": [],
   "source": [
    "# Create an RDD of out of date, of concern telemetry ping staged update\n",
    "# state codes along with a dictionary of the count of the codes.\n",
    "\n",
    "def stateCodeStageMapper(d):\n",
    "    ping = d\n",
    "    currentVersion = ping.version[0]\n",
    "    for index, version in enumerate(ping.version):\n",
    "        if ping.update_state_code_partial_stage is not None:\n",
    "            codeIndex = 0\n",
    "            for codeValue in ping.update_state_code_partial_stage[index]:\n",
    "                if codeValue > 0:\n",
    "                    if version == currentVersion:\n",
    "                        return (codeIndex, ping)\n",
    "                    return (-1, ping)\n",
    "                codeIndex += 1\n",
    "\n",
    "        if ping.update_state_code_complete_stage is not None:\n",
    "            codeIndex = 0\n",
    "            for codeValue in ping.update_state_code_complete_stage[index]:\n",
    "                if codeValue > 0:\n",
    "                    if version == currentVersion:\n",
    "                        return (codeIndex, ping)\n",
    "                    return (-1, ping)\n",
    "                codeIndex += 1\n",
    "\n",
    "        if ping.update_state_code_unknown_stage is not None:\n",
    "            codeIndex = 0\n",
    "            for codeValue in ping.update_state_code_unknown_stage[index]:\n",
    "                if codeValue > 0:\n",
    "                    if version == currentVersion:\n",
    "                        return (codeIndex, ping)\n",
    "                    return (-1, ping)\n",
    "                codeIndex += 1\n",
    "\n",
    "    return (-2, ping)\n",
    "\n",
    "stateCodeStageOfConcernRDD = ofConcernTrueRDD.map(stateCodeStageMapper)\n",
    "stateCodeStageOfConcernDict = stateCodeStageOfConcernRDD.countByKey()\n",
    "stateCodeStageOfConcernDict"
   ]
  },
  {
   "cell_type": "code",
   "execution_count": null,
   "metadata": {
    "collapsed": true
   },
   "outputs": [],
   "source": [
    "# Create an RDD of out of date, of concern telemetry pings that failed\n",
    "# to stage an update.\n",
    "# STATE_FAILED: 12\n",
    "\n",
    "stateCodeStageFailedOfConcernRDD = stateCodeStageOfConcernRDD.filter(lambda p: p[0] == 12).map(lambda p: p[1]).cache()"
   ]
  },
  {
   "cell_type": "code",
   "execution_count": null,
   "metadata": {
    "collapsed": false
   },
   "outputs": [],
   "source": [
    "# Create an RDD of out of date, of concern telemetry ping staged update\n",
    "# state failure codes along with a dictionary of the count of the codes.\n",
    "\n",
    "def stateFailureCodeStageMapper(d):\n",
    "    ping = d\n",
    "    currentVersion = ping.version[0]\n",
    "    for index, version in enumerate(ping.version):\n",
    "        if ping.update_status_error_code_partial_stage is not None:\n",
    "            codeIndex = 0\n",
    "            for codeValue in ping.update_status_error_code_partial_stage[index]:\n",
    "                if codeValue > 0:\n",
    "                    if version == currentVersion:\n",
    "                        return (codeIndex, ping)\n",
    "                    return (-1, ping)\n",
    "                codeIndex += 1\n",
    "\n",
    "        if ping.update_status_error_code_complete_stage is not None:\n",
    "            codeIndex = 0\n",
    "            for codeValue in ping.update_status_error_code_complete_stage[index]:\n",
    "                if codeValue > 0:\n",
    "                    if version == currentVersion:\n",
    "                        return (codeIndex, ping)\n",
    "                    return (-1, ping)\n",
    "                codeIndex += 1\n",
    "\n",
    "        if ping.update_status_error_code_unknown_stage is not None:\n",
    "            codeIndex = 0\n",
    "            for codeValue in ping.update_status_error_code_unknown_stage[index]:\n",
    "                if codeValue > 0:\n",
    "                    if version == currentVersion:\n",
    "                        return (codeIndex, ping)\n",
    "                    return (-1, ping)\n",
    "                codeIndex += 1\n",
    "\n",
    "    return (-2, ping)\n",
    "\n",
    "stateFailureCodeStageOfConcernRDD = stateCodeStageFailedOfConcernRDD.map(stateFailureCodeStageMapper)\n",
    "stateFailureCodeStageOfConcernDict = stateFailureCodeStageOfConcernRDD.countByKey()\n",
    "stateFailureCodeStageOfConcernDict"
   ]
  },
  {
   "cell_type": "code",
   "execution_count": null,
   "metadata": {
    "collapsed": false
   },
   "outputs": [],
   "source": [
    "# Create an RDD of out of date, of concern telemetry ping startup\n",
    "# update state codes along with a dictionary of the count of the codes.\n",
    "\n",
    "def stateCodeStartupMapper(d):\n",
    "    ping = d\n",
    "    currentVersion = ping.version[0]\n",
    "    for index, version in enumerate(ping.version):\n",
    "        if ping.update_state_code_partial_startup is not None:\n",
    "            codeIndex = 0\n",
    "            for codeValue in ping.update_state_code_partial_startup[index]:\n",
    "                if codeValue > 0:\n",
    "                    if version == currentVersion:\n",
    "                        return (codeIndex, ping)\n",
    "                    return (-1, ping)\n",
    "                codeIndex += 1\n",
    "\n",
    "        if ping.update_state_code_complete_startup is not None:\n",
    "            codeIndex = 0\n",
    "            for codeValue in ping.update_state_code_complete_startup[index]:\n",
    "                if codeValue > 0:\n",
    "                    if version == currentVersion:\n",
    "                        return (codeIndex, ping)\n",
    "                    return (-1, ping)\n",
    "                codeIndex += 1\n",
    "\n",
    "        if ping.update_state_code_unknown_startup is not None:\n",
    "            codeIndex = 0\n",
    "            for codeValue in ping.update_state_code_unknown_startup[index]:\n",
    "                if codeValue > 0:\n",
    "                    if version == currentVersion:\n",
    "                        return (codeIndex, ping)\n",
    "                    return (-1, ping)\n",
    "                codeIndex += 1\n",
    "\n",
    "    return (-2, ping)\n",
    "\n",
    "stateCodeStartupOfConcernRDD = ofConcernTrueRDD.map(stateCodeStartupMapper)\n",
    "stateCodeStartupOfConcernDict = stateCodeStartupOfConcernRDD.countByKey()\n",
    "stateCodeStartupOfConcernDict"
   ]
  },
  {
   "cell_type": "code",
   "execution_count": null,
   "metadata": {
    "collapsed": true
   },
   "outputs": [],
   "source": [
    "ofConcernStateCodeStartupFailedRDD = stateCodeStartupOfConcernRDD.filter(lambda p: p[0] == 12).map(lambda p: p[1]).cache()"
   ]
  },
  {
   "cell_type": "code",
   "execution_count": null,
   "metadata": {
    "collapsed": false
   },
   "outputs": [],
   "source": [
    "# Create an RDD of out of date, of concern telemetry ping startup\n",
    "# update state failure codes along with a dictionary of the count of the\n",
    "# codes.\n",
    "\n",
    "def stateFailureCodeStartupMapper(d):\n",
    "    ping = d\n",
    "    currentVersion = ping.version[0]\n",
    "    for index, version in enumerate(ping.version):\n",
    "        if ping.update_status_error_code_partial_startup is not None:\n",
    "            codeIndex = 0\n",
    "            for codeValue in ping.update_status_error_code_partial_startup[index]:\n",
    "                if codeValue > 0:\n",
    "                    if version == currentVersion:\n",
    "                        return (codeIndex, ping)\n",
    "                    return (-1, ping)\n",
    "                codeIndex += 1\n",
    "\n",
    "        if ping.update_status_error_code_complete_startup is not None:\n",
    "            codeIndex = 0\n",
    "            for codeValue in ping.update_status_error_code_complete_startup[index]:\n",
    "                if codeValue > 0:\n",
    "                    if version == currentVersion:\n",
    "                        return (codeIndex, ping)\n",
    "                    return (-1, ping)\n",
    "                codeIndex += 1\n",
    "\n",
    "        if ping.update_status_error_code_unknown_startup is not None:\n",
    "            codeIndex = 0\n",
    "            for codeValue in ping.update_status_error_code_unknown_startup[index]:\n",
    "                if codeValue > 0:\n",
    "                    if version == currentVersion:\n",
    "                        return (codeIndex, ping)\n",
    "                    return (-1, ping)\n",
    "                codeIndex += 1\n",
    "\n",
    "    return (-2, ping)\n",
    "\n",
    "stateFailureCodeStartupOfConcernRDD = ofConcernStateCodeStartupFailedRDD.map(stateFailureCodeStartupMapper)\n",
    "stateFailureCodeStartupOfConcernDict = stateFailureCodeStartupOfConcernRDD.countByKey()\n",
    "stateFailureCodeStartupOfConcernDict"
   ]
  },
  {
   "cell_type": "code",
   "execution_count": null,
   "metadata": {
    "collapsed": false
   },
   "outputs": [],
   "source": [
    "# Create an RDD of out of date, of concern telemetry pings that have\n",
    "# and have not received only no updates available during the update\n",
    "# check for their current version of Firefox.\n",
    "\n",
    "def hasOnlyNoUpdateFoundMapper(d):\n",
    "    ping = d\n",
    "    if ping.update_check_no_update_notify is None:\n",
    "        return (False, ping)\n",
    "\n",
    "    currentVersion = ping.version[0]\n",
    "    for index, version in enumerate(ping.version):\n",
    "        if currentVersion != version:\n",
    "            return (True, ping)\n",
    "\n",
    "        if ping.update_ping_count_notify[index] > 0:\n",
    "            # If there is an update ping and update_check_no_update_notify\n",
    "            # has a value equal to 0 then the update check returned a\n",
    "            # value other than no update found. This could be improved by\n",
    "            # checking the check value for error conditions and ignoring\n",
    "            # those codes and ignoring the check below for those cases.\n",
    "            if (ping.update_check_no_update_notify[index] == 0):\n",
    "                return (False, ping)\n",
    "\n",
    "    return (True, ping)\n",
    "\n",
    "hasOnlyNoUpdateFoundRDD = ofConcernTrueRDD.map(hasOnlyNoUpdateFoundMapper)\n",
    "hasOnlyNoUpdateFoundDict = hasOnlyNoUpdateFoundRDD.countByKey()\n",
    "hasOnlyNoUpdateFoundDict"
   ]
  },
  {
   "cell_type": "code",
   "execution_count": null,
   "metadata": {
    "collapsed": false
   },
   "outputs": [],
   "source": [
    "hasOnlyNoUpdateFoundFalseRDD = hasOnlyNoUpdateFoundRDD.filter(lambda p: p[0] == False).map(lambda p: p[1]).cache()"
   ]
  },
  {
   "cell_type": "code",
   "execution_count": null,
   "metadata": {
    "collapsed": false
   },
   "outputs": [],
   "source": [
    "# Create an RDD of out of date, of concern telemetry pings that have and\n",
    "# don't have any update download pings for their current version of\n",
    "# Firefox.\n",
    "\n",
    "def hasNoDownloadCodeMapper(d):\n",
    "    ping = d\n",
    "    currentVersion = ping.version[0]\n",
    "    for index, version in enumerate(ping.version):\n",
    "        if currentVersion != version:\n",
    "            return (True, ping)\n",
    "\n",
    "        if ping.update_download_code_partial is not None:\n",
    "            codeIndex = 0\n",
    "            for codeValue in ping.update_download_code_partial[index]:\n",
    "                if codeValue > 0:\n",
    "                    return (False, ping)\n",
    "                codeIndex += 1\n",
    "\n",
    "        if ping.update_download_code_complete is not None:\n",
    "            codeIndex = 0\n",
    "            for codeValue in ping.update_download_code_complete[index]:\n",
    "                if codeValue > 0:\n",
    "                    return (False, ping)\n",
    "                codeIndex += 1\n",
    "\n",
    "    return (True, ping)\n",
    "\n",
    "hasNoDownloadCodeRDD = hasOnlyNoUpdateFoundFalseRDD.map(hasNoDownloadCodeMapper)\n",
    "hasNoDownloadCodeDict = hasNoDownloadCodeRDD.countByKey()\n",
    "hasNoDownloadCodeDict"
   ]
  },
  {
   "cell_type": "code",
   "execution_count": null,
   "metadata": {
    "collapsed": true
   },
   "outputs": [],
   "source": [
    "hasNoDownloadCodeFalseRDD = hasNoDownloadCodeRDD.filter(lambda p: p[0] == False).map(lambda p: p[1]).cache()"
   ]
  },
  {
   "cell_type": "code",
   "execution_count": null,
   "metadata": {
    "collapsed": false
   },
   "outputs": [],
   "source": [
    "# Create an RDD of out of date, of concern telemetry pings that have and\n",
    "# don't have an update failure state for their current version of\n",
    "# Firefox.\n",
    "\n",
    "def hasUpdateApplyFailureMapper(d):\n",
    "    ping = d\n",
    "    currentVersion = ping.version[0]\n",
    "    for index, version in enumerate(ping.version):\n",
    "        if currentVersion != version:\n",
    "            return (False, ping)\n",
    "\n",
    "        if ping.update_state_code_complete_startup is not None:\n",
    "            if ping.update_state_code_complete_startup[index][12] > 0:\n",
    "                return (True, ping)\n",
    "\n",
    "        if ping.update_state_code_complete_startup is not None:\n",
    "            if ping.update_state_code_complete_startup[index][12] > 0:\n",
    "                return (True, ping)\n",
    "\n",
    "    return (False, ping)\n",
    "\n",
    "hasUpdateApplyFailureRDD = hasNoDownloadCodeFalseRDD.map(hasUpdateApplyFailureMapper)\n",
    "hasUpdateApplyFailureDict = hasUpdateApplyFailureRDD.countByKey()\n",
    "hasUpdateApplyFailureDict"
   ]
  },
  {
   "cell_type": "code",
   "execution_count": null,
   "metadata": {
    "collapsed": true
   },
   "outputs": [],
   "source": [
    "hasUpdateApplyFailureFalseRDD = hasUpdateApplyFailureRDD.filter(lambda p: p[0] == False).map(lambda p: p[1]).cache()"
   ]
  },
  {
   "cell_type": "code",
   "execution_count": null,
   "metadata": {
    "collapsed": true
   },
   "outputs": [],
   "source": [
    "# Create a reference to the dictionary which will be written to the\n",
    "# JSON that populates the web page data. This way the reference in the\n",
    "# web page never changes. A reference is all that is needed since the\n",
    "# dictionary is not modified.\n",
    "\n",
    "ofConcernCategorizedDict = hasUpdateApplyFailureDict"
   ]
  },
  {
   "cell_type": "code",
   "execution_count": null,
   "metadata": {
    "collapsed": false
   },
   "outputs": [],
   "source": [
    "# Create the JSON that will be written to a file for the report.\n",
    "\n",
    "results = {\"reportDetails\": reportDetailsDict,\n",
    "           \"summary\": summaryDict,\n",
    "           \"hasOutOfDateMaxVersion\": hasOutOfDateMaxVersionDict,\n",
    "           \"hasUpdatePing\": hasUpdatePingDict,\n",
    "           \"hasMinSubsessionLength\": hasMinSubsessionLengthDict,\n",
    "           \"hasMinUpdatePingCount\": hasMinUpdatePingCountDict,\n",
    "           \"isSupported\": isSupportedDict,\n",
    "           \"isAbleToApply\": isAbleToApplyDict,\n",
    "           \"hasUpdateEnabled\": hasUpdateEnabledDict,\n",
    "           \"ofConcern\": ofConcernDict,\n",
    "           \"hasOnlyNoUpdateFound\": hasOnlyNoUpdateFoundDict,\n",
    "           \"hasNoDownloadCode\": hasNoDownloadCodeDict,\n",
    "           \"hasUpdateApplyFailure\": hasUpdateApplyFailureDict,\n",
    "           \"ofConcernCategorized\": ofConcernCategorizedDict,\n",
    "           \"ofConcernByVersion\": ofConcernByVersionDict,\n",
    "           \"checkCodeNotifyOfConcern\": checkCodeNotifyOfConcernDict,\n",
    "           \"checkExErrorNotifyOfConcern\": checkExErrorNotifyOfConcernDict,\n",
    "           \"downloadCodeOfConcern\": downloadCodeOfConcernDict,\n",
    "           \"stateCodeStageOfConcern\": stateCodeStageOfConcernDict,\n",
    "           \"stateFailureCodeStageOfConcern\": stateFailureCodeStageOfConcernDict,\n",
    "           \"stateCodeStartupOfConcern\": stateCodeStartupOfConcernDict,\n",
    "           \"stateFailureCodeStartupOfConcern\": stateFailureCodeStartupOfConcernDict}\n",
    "resultsJSON = json.dumps(results, ensure_ascii=False)\n",
    "resultsJSON"
   ]
  },
  {
   "cell_type": "code",
   "execution_count": null,
   "metadata": {
    "collapsed": false
   },
   "outputs": [],
   "source": [
    "# Save the output to be uploaded automatically once the job completes.\n",
    "# The file will be stored at:\n",
    "# https://analysis-output.telemetry.mozilla.org/SPARKJOBNAME/data/FILENAME\n",
    "\n",
    "filename = \"./output/\" + reportFilename + \".json\"\n",
    "if runManually is None:\n",
    "    with open(filename, 'w') as f:\n",
    "        f.write(final_results_json)\n",
    "\n",
    "print \"Filename: \" + filename"
   ]
  },
  {
   "cell_type": "code",
   "execution_count": null,
   "metadata": {
    "collapsed": false
   },
   "outputs": [],
   "source": [
    "# Get the time when this job ended.\n",
    "\n",
    "endTime = dt.datetime.now()\n",
    "print \"End: \" + str(endTime.strftime(\"%Y-%m-%d %H:%M:%S\"))"
   ]
  },
  {
   "cell_type": "code",
   "execution_count": null,
   "metadata": {
    "collapsed": false
   },
   "outputs": [],
   "source": [
    "# Get the elapsed time it took to run this job.\n",
    "\n",
    "elapsedTime = endTime - startTime\n",
    "print \"Elapsed Seconds: \" + str(int(elapsedTime.total_seconds()))"
   ]
  }
 ],
 "metadata": {
  "anaconda-cloud": {},
  "kernelspec": {
   "display_name": "Python [default]",
   "language": "python",
   "name": "python2"
  },
  "language_info": {
   "codemirror_mode": {
    "name": "ipython",
    "version": 2
   },
   "file_extension": ".py",
   "mimetype": "text/x-python",
   "name": "python",
   "nbconvert_exporter": "python",
   "pygments_lexer": "ipython2",
   "version": "2.7.12"
  }
 },
 "nbformat": 4,
 "nbformat_minor": 0
}
